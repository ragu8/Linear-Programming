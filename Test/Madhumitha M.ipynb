{
 "cells": [
  {
   "cell_type": "code",
   "execution_count": 3,
   "id": "30498c27-6c7b-40da-87e2-86f04d0bfb3b",
   "metadata": {},
   "outputs": [
    {
     "name": "stdout",
     "output_type": "stream",
     "text": [
      "Optimal solution:\n",
      "x1\t30.77\n",
      "x2\t11.54\n",
      "\n",
      "Optimal objective value:\n",
      "Z = 13846.15\n"
     ]
    }
   ],
   "source": [
    "library(lpSolve)\n",
    "Obj <- c(300,400 )\n",
    "Constraints <- matrix(c(5,4,3,5,5,4,8,4), nrow = 4, byrow = TRUE)\n",
    "Inequality <- c(\"<=\",\"<=\",\">=\", \">=\")\n",
    "Rhs <- c(200,150,100,80)\n",
    "\n",
    "result <- lp(\"max\", Obj, Constraints, Inequality, Rhs)\n",
    "\n",
    "cat(\"Optimal solution:\\n\")\n",
    "cat(sprintf(\"x1\\t%.2f\\n\", result$solution[1]))\n",
    "cat(sprintf(\"x2\\t%.2f\\n\", result$solution[2]))\n",
    "\n",
    "cat(\"\\nOptimal objective value:\\n\")\n",
    "cat(sprintf(\"Z = %.2f\\n\", result$objval))"
   ]
  },
  {
   "cell_type": "code",
   "execution_count": 4,
   "id": "bb5dbe41-58e7-40e3-afee-b0bac5665e1d",
   "metadata": {},
   "outputs": [
    {
     "name": "stdout",
     "output_type": "stream",
     "text": [
      "Optimal solution found:\n",
      "Minimum cost of the diet: 110 \n",
      "Units of food A = 5 \n",
      "Units of food B = 30 \n"
     ]
    }
   ],
   "source": [
    "# Load the lpSolve library\n",
    "library(lpSolve)\n",
    "\n",
    "# Objective function coefficients (cost of foods A and B)\n",
    "obj <- c(4, 3)\n",
    "\n",
    "# Constraint matrix (nutritional values)\n",
    "mat <- matrix(c(200, 100,\n",
    "                1, 2,\n",
    "                40, 40), nrow = 3, byrow = TRUE)\n",
    "\n",
    "# Constraint right-hand side (nutritional requirements)\n",
    "rhs <- c(4000, 50, 1400)\n",
    "\n",
    "# Set the direction of the inequalities ('>=' in this case)\n",
    "dir <- rep(\">=\", 3)\n",
    "\n",
    "# Solve the linear programming problem to minimize the cost\n",
    "lp_solution <- lp(\"min\", obj, mat, dir, rhs)\n",
    "\n",
    "# Print the solution\n",
    "if(lp_solution$status == 0) {\n",
    "  cat(\"Optimal solution found:\\n\")\n",
    "  cat(\"Minimum cost of the diet:\", lp_solution$objval, \"\\n\")\n",
    "  cat(\"Units of food A =\", lp_solution$solution[1], \"\\n\")\n",
    "  cat(\"Units of food B =\", lp_solution$solution[2], \"\\n\")\n",
    "} else {\n",
    "  cat(\"No optimal solution found\\n\")\n",
    "}"
   ]
  },
  {
   "cell_type": "code",
   "execution_count": 5,
   "id": "a766588b-7198-4c9c-bc55-6fa506bf860f",
   "metadata": {},
   "outputs": [
    {
     "name": "stderr",
     "output_type": "stream",
     "text": [
      "Updating HTML index of packages in '.Library'\n",
      "\n",
      "Making 'packages.html' ...\n",
      " done\n",
      "\n"
     ]
    },
    {
     "name": "stdout",
     "output_type": "stream",
     "text": [
      "Optimal solution found:\n",
      "Objective value (Max Z): 123 \n",
      "X1 = 0 \n",
      "X2 = 4 \n",
      "X3 = 0 \n",
      "X4 = 4 \n"
     ]
    }
   ],
   "source": [
    "# Install lpSolve package\n",
    "install.packages(\"lpSolve\")\n",
    "\n",
    "# Load the lpSolve library\n",
    "library(lpSolve)\n",
    "\n",
    "# Objective function coefficients\n",
    "obj <- c(60, 26, 15, 4.75)\n",
    "\n",
    "# Constraint matrix\n",
    "mat <- matrix(c(20, 9, 6, 1,\n",
    "                10, 4, 2, 1), nrow = 2, byrow = TRUE)\n",
    "\n",
    "# Constraint right-hand side\n",
    "rhs <- c(40, 20)\n",
    "\n",
    "# Set the direction of the inequalities ('<=' in this case)\n",
    "dir <- c(\"<=\", \"<=\")\n",
    "\n",
    "# Solve the linear programming problem\n",
    "lp_solution <- lp(\"max\", obj, mat, dir, rhs, all.int = TRUE)\n",
    "\n",
    "# Print the solution\n",
    "if(lp_solution$status == 0) {\n",
    "  cat(\"Optimal solution found:\\n\")\n",
    "  cat(\"Objective value (Max Z):\", lp_solution$objval, \"\\n\")\n",
    "  cat(\"X1 =\", lp_solution$solution[1], \"\\n\")\n",
    "  cat(\"X2 =\", lp_solution$solution[2], \"\\n\")\n",
    "  cat(\"X3 =\", lp_solution$solution[3], \"\\n\")\n",
    "  cat(\"X4 =\", lp_solution$solution[4], \"\\n\")\n",
    "} else {\n",
    "  cat(\"No optimal solution found\\n\")\n",
    "}"
   ]
  },
  {
   "cell_type": "code",
   "execution_count": 6,
   "id": "b8bef7f9-0ca9-427a-a2b9-9cdc1d9dabdd",
   "metadata": {},
   "outputs": [
    {
     "name": "stdout",
     "output_type": "stream",
     "text": [
      "Optimal solution found:\n",
      "Objective value (Max Z): 10 \n",
      "X1 = 0 \n",
      "X2 = 2.5 \n"
     ]
    }
   ],
   "source": [
    "# Load the lpSolve library\n",
    "library(lpSolve)\n",
    "\n",
    "# Objective function coefficients\n",
    "obj <- c(2, 4)\n",
    "\n",
    "# Constraint matrix\n",
    "mat <- matrix(c(1, 2,\n",
    "                1, 1), nrow = 2, byrow = TRUE)\n",
    "\n",
    "# Constraint right-hand side\n",
    "rhs <- c(5, 4)\n",
    "\n",
    "# Set the direction of the inequalities ('<=' in this case)\n",
    "dir <- rep(\"<=\", 2)\n",
    "\n",
    "# Solve the linear programming problem\n",
    "lp_solution <- lp(\"max\", obj, mat, dir, rhs)\n",
    "\n",
    "# Print the solution\n",
    "if(lp_solution$status == 0) {\n",
    "  cat(\"Optimal solution found:\\n\")\n",
    "  cat(\"Objective value (Max Z):\", lp_solution$objval, \"\\n\")\n",
    "  cat(\"X1 =\", lp_solution$solution[1], \"\\n\")\n",
    "  cat(\"X2 =\", lp_solution$solution[2], \"\\n\")\n",
    "} else {\n",
    "  cat(\"No optimal solution found\\n\")\n",
    "}"
   ]
  },
  {
   "cell_type": "code",
   "execution_count": 7,
   "id": "082885fc-b4f0-48e3-af3a-e37b06fe8e67",
   "metadata": {},
   "outputs": [
    {
     "name": "stdout",
     "output_type": "stream",
     "text": [
      "Optimal solution found:\n",
      "Objective value (Max Z): 29 \n",
      "X1 = 8 \n",
      "X2 = 1 \n"
     ]
    }
   ],
   "source": [
    "# Load the lpSolve library\n",
    "library(lpSolve)\n",
    "\n",
    "# Objective function coefficients\n",
    "obj <- c(3, 5)\n",
    "\n",
    "# Constraint matrix\n",
    "mat <- matrix(c(1, -2,\n",
    "                1, 0,\n",
    "                0, 1), nrow = 3, byrow = TRUE)\n",
    "\n",
    "# Constraint right-hand side\n",
    "rhs <- c(6, 10, 1)\n",
    "\n",
    "# Set the direction of the inequalities ('<=' in this case)\n",
    "dir <- rep(\"<=\", 3)\n",
    "\n",
    "# Solve the linear programming problem\n",
    "lp_solution <- lp(\"max\", obj, mat, dir, rhs)\n",
    "\n",
    "# Print the solution\n",
    "if(lp_solution$status == 0) {\n",
    "  cat(\"Optimal solution found:\\n\")\n",
    "  cat(\"Objective value (Max Z):\", lp_solution$objval, \"\\n\")\n",
    "  cat(\"X1 =\", lp_solution$solution[1], \"\\n\")\n",
    "  cat(\"X2 =\", lp_solution$solution[2], \"\\n\")\n",
    "} else {\n",
    "  cat(\"No optimal solution found\\n\")\n",
    "}"
   ]
  },
  {
   "cell_type": "code",
   "execution_count": 8,
   "id": "cff99e86-f28c-4c33-bd2b-e8ad9e85bd3d",
   "metadata": {},
   "outputs": [
    {
     "name": "stdout",
     "output_type": "stream",
     "text": [
      "Optimal Transportation :\n",
      "     [,1] [,2] [,3] [,4]\n",
      "[1,]    0   12    2    8\n",
      "[2,]    0    0   15    0\n",
      "[3,]    7    0    0    1\n",
      "\n",
      "Total Cost:\n",
      "Z = 149"
     ]
    }
   ],
   "source": [
    " #Install the lpSolve package\n",
    "if (!require(\"lpSolve\")) {\n",
    "  install.packages(\"lpSolve\")\n",
    "}\n",
    "\n",
    "# load the lpSolve package\n",
    "library(lpSolve)\n",
    "\n",
    "# Define the transportation costs matrix\n",
    "cost_matrix <- matrix(c(\n",
    "  6, 3, 5, 4,\n",
    "  5, 9, 2, 7,\n",
    "  5, 7, 8, 6\n",
    "  ), nrow = 3, byrow = TRUE)\n",
    "\n",
    "# Define the supply and demand vectors\n",
    "supply <- c(22, 15, 8)\n",
    "demand <- c(7, 12, 17, 9)\n",
    "\n",
    "# Solve the transportation problem\n",
    "result <- lp.transport(cost = cost_matrix, direction = \"min\",\n",
    "                       row.signs = rep(\"=\", nrow(cost_matrix)),\n",
    "                       row.rhs = supply,\n",
    "                       col.signs = rep(\"=\", ncol(cost_matrix)),\n",
    "                       col.rhs = demand)\n",
    "\n",
    "# Display the result\n",
    "cat(\"Optimal Transportation :\\n\")\n",
    "print(result$solution)\n",
    "\n",
    "cat(\"\\nTotal Cost:\\n\")\n",
    "cat(\"Z =\", result$objval)"
   ]
  },
  {
   "cell_type": "code",
   "execution_count": 9,
   "id": "67cc0a0f-851b-4f09-ad33-c86bc260bc07",
   "metadata": {},
   "outputs": [
    {
     "name": "stdout",
     "output_type": "stream",
     "text": [
      "Optimal Assignment:\n",
      "     [,1] [,2] [,3]\n",
      "[1,]    0    1    0\n",
      "[2,]    1    0    0\n",
      "[3,]    0    0    1\n",
      "\n",
      "Total Cost :\n",
      "Z = 27"
     ]
    }
   ],
   "source": [
    "# Install the lpSolve package\n",
    "if (!require(\"lpSolve\")) {\n",
    "  install.packages(\"lpSolve\")\n",
    "}\n",
    "\n",
    "# load the lpSolve package\n",
    "library(lpSolve)\n",
    "\n",
    "# Define the cost matrix (or profit matrix)\n",
    "cost_matrix <- matrix(c(\n",
    "  15, 10, 9,\n",
    "  9, 15, 10,\n",
    "  10, 12, 8\n",
    "), nrow = 3, byrow = TRUE)\n",
    "\n",
    "# Solve the assignment problem\n",
    "result <- lp.assign(cost_matrix)\n",
    "\n",
    "# Display the result\n",
    "cat(\"Optimal Assignment:\\n\")\n",
    "print(result$solution)\n",
    "\n",
    "cat(\"\\nTotal Cost :\\n\")\n",
    "cat(\"Z =\", result$objval)\n",
    "     "
   ]
  },
  {
   "cell_type": "code",
   "execution_count": 10,
   "id": "960de11c-a482-4a71-907b-fcb09c1f3a38",
   "metadata": {},
   "outputs": [
    {
     "name": "stdout",
     "output_type": "stream",
     "text": [
      "Optimal Solution:\n",
      "X1 = 1\n",
      "X2 = 3\n",
      "X3 = 0\n",
      "X4 = 0\n",
      "Optimal Z value = 0"
     ]
    }
   ],
   "source": [
    "# Load the lpSolve library\n",
    "library(lpSolve)\n",
    "\n",
    "# Objective function coefficients\n",
    "obj <- c(3, 1, 1, 1)\n",
    "\n",
    "# Constraint matrix\n",
    "mat <- matrix(c(-2, 2, 1, 0,\n",
    "                3, 1, 0, 1), nrow = 2, byrow = TRUE)\n",
    "\n",
    "# Right-hand side of constraints\n",
    "rhs <- c(4, 6)\n",
    "\n",
    "# Define the constraint types (equality)\n",
    "con_types <- c(\"=\", \"=\")\n",
    "\n",
    "# Add artificial variables\n",
    "mat_artificial <- cbind(mat, diag(2))\n",
    "obj_artificial <- c(0, 0, 0, 0, 1, 1)  # Coefficients for artificial variables\n",
    "\n",
    "# Solve LP problem with artificial variables using Big M method\n",
    "lp <- lp(\"min\", obj_artificial, mat_artificial, con_types, rhs, compute.sens = FALSE)\n",
    "\n",
    "# Extract the solution\n",
    "solution <- lp$solution[1:4]  # Extract X1, X2, X3, X4\n",
    "\n",
    "# Print the solution\n",
    "cat(\"Optimal Solution:\")\n",
    "cat(\"\\nX1 =\", solution[1])\n",
    "cat(\"\\nX2 =\", solution[2])\n",
    "cat(\"\\nX3 =\", solution[3])\n",
    "cat(\"\\nX4 =\", solution[4])\n",
    "cat(\"\\nOptimal Z value =\", lp$objval)  # Optimal Z value"
   ]
  },
  {
   "cell_type": "code",
   "execution_count": 11,
   "id": "0d2a2788-fa67-4c11-89ed-ee104048fabc",
   "metadata": {},
   "outputs": [
    {
     "name": "stderr",
     "output_type": "stream",
     "text": [
      "Warning message in rbind(const.mat, const.dir.num, const.rhs):\n",
      "“number of columns of result is not a multiple of vector length (arg 2)”\n"
     ]
    },
    {
     "name": "stdout",
     "output_type": "stream",
     "text": [
      "Optimal solution:\n",
      "x1\t0.00\n",
      "x2\t0.00\n",
      "x3\t0.00\n",
      "x4\t4.00\n",
      "\n",
      "Optimal objective value:\n",
      "Z = 28.00\n"
     ]
    }
   ],
   "source": [
    "# Install the lpSolve package\n",
    "if (!require(\"lpSolve\")) {\n",
    "  install.packages(\"lpSolve\")\n",
    "}\n",
    "\n",
    "# load the lpSolve package\n",
    "library(lpSolve)\n",
    "\n",
    "# Objective function coefficients\n",
    "obj <- c(3, 4, 1, 7)\n",
    "\n",
    "# Constraint matrix\n",
    "mat <- matrix(c(8, 3, 4, 1, \n",
    "                2, 6, 1, 5, \n",
    "                1, 4, 5, 2), nrow = 3, byrow = TRUE)\n",
    "\n",
    "# Inequality signs\n",
    "constr_types <- c(\"<=\", \">=\")\n",
    "\n",
    "# Right-hand side of constraints\n",
    "rhs <- c(7, 3, 8)\n",
    "\n",
    "# Solving the linear programming problem\n",
    "result <- lp(\"max\", obj, mat, constr_types, rhs)\n",
    "\n",
    "# Display the result\n",
    "cat(\"Optimal solution:\\n\")\n",
    "cat(sprintf(\"x1\\t%.2f\\n\", result$solution[1]))\n",
    "cat(sprintf(\"x2\\t%.2f\\n\", result$solution[2]))\n",
    "cat(sprintf(\"x3\\t%.2f\\n\", result$solution[3]))\n",
    "cat(sprintf(\"x4\\t%.2f\\n\", result$solution[4]))\n",
    "\n",
    "cat(\"\\nOptimal objective value:\\n\")\n",
    "cat(sprintf(\"Z = %.2f\\n\", result$objval))\n"
   ]
  },
  {
   "cell_type": "code",
   "execution_count": 12,
   "id": "ef7a5d1a-5891-42c7-ac05-0e51166258f5",
   "metadata": {},
   "outputs": [
    {
     "name": "stdout",
     "output_type": "stream",
     "text": [
      "Optimal Assignment:\n",
      "     [,1] [,2] [,3] [,4]\n",
      "[1,]    1    0    0    0\n",
      "[2,]    0    1    0    0\n",
      "[3,]    0    0    1    0\n",
      "[4,]    0    0    0    1\n",
      "\n",
      "Total Cost :\n",
      "Z = 0"
     ]
    }
   ],
   "source": [
    "# Install the lpSolve package\n",
    "if (!require(\"lpSolve\")) {\n",
    "  install.packages(\"lpSolve\")\n",
    "}\n",
    "\n",
    "# load the lpSolve package\n",
    "library(lpSolve)\n",
    "\n",
    "# Define the cost matrix (or profit matrix)\n",
    "cost_matrix <- matrix(c(\n",
    "  0, 4, 7, 3,\n",
    "  4, 0, 6, 3,\n",
    "  7, 6, 0, 7,\n",
    "  3, 3, 7, 0\n",
    "), nrow = 4, byrow = TRUE)\n",
    "\n",
    "# Solve the assignment problem\n",
    "result <- lp.assign(cost_matrix)\n",
    "\n",
    "# Display the result\n",
    "cat(\"Optimal Assignment:\\n\")\n",
    "print(result$solution)\n",
    "\n",
    "cat(\"\\nTotal Cost :\\n\")\n",
    "cat(\"Z =\", result$objval)\n",
    "     "
   ]
  },
  {
   "cell_type": "code",
   "execution_count": 13,
   "id": "a1bbd839-2aa5-4b20-8f19-9966cbc00023",
   "metadata": {},
   "outputs": [
    {
     "name": "stdout",
     "output_type": "stream",
     "text": [
      "Lowest cost for each road: 7 12 18 15 \n",
      "Contractors for each road based on lowest cost: 2 4 4 1 \n",
      "Total cost for awarding work to lowest cost contractors: 52 lakhs\n",
      "Total supplementary grant needed (if any): 2 lakhs\n",
      "Contractor(s) unsuccessful in their bid: 3 5 \n"
     ]
    }
   ],
   "source": [
    "# Contractor bids\n",
    "contractor_bids <- matrix(c(9, 14, 19, 15,\n",
    "                            7, 17, 20, 19,\n",
    "                            9, 18, 21, 18,\n",
    "                            10, 12, 18, 19,\n",
    "                            10, 15, 21, 16), nrow = 5, byrow = TRUE)\n",
    "\n",
    "# Function to find the lowest cost for each road\n",
    "find_lowest_cost <- function(bids) {\n",
    "  lowest_cost <- rep(0, ncol(bids))\n",
    "  for (i in 1:ncol(bids)) {\n",
    "    lowest_cost[i] <- min(bids[, i])\n",
    "  }\n",
    "  return(lowest_cost)\n",
    "}\n",
    "\n",
    "# Function to find the contractor for each road based on lowest cost\n",
    "find_contractors <- function(bids) {\n",
    "  contractors <- rep(0, ncol(bids))\n",
    "  for (i in 1:ncol(bids)) {\n",
    "    contractors[i] <- which.min(bids[, i])\n",
    "  }\n",
    "  return(contractors)\n",
    "}\n",
    "\n",
    "# Find lowest cost for each road\n",
    "lowest_cost <- find_lowest_cost(contractor_bids)\n",
    "cat(\"Lowest cost for each road:\", lowest_cost, \"\\n\")\n",
    "\n",
    "# Find contractors for each road based on lowest cost\n",
    "contractors <- find_contractors(contractor_bids)\n",
    "cat(\"Contractors for each road based on lowest cost:\", contractors, \"\\n\")\n",
    "\n",
    "# Total cost for awarding work to the lowest cost contractors\n",
    "total_cost <- sum(lowest_cost)\n",
    "cat(\"Total cost for awarding work to lowest cost contractors:\", total_cost, \"lakhs\\n\")\n",
    "\n",
    "# If supplementary grants are needed, calculate the amount\n",
    "grant_amount <- 50  # Initial grant amount in lakh\n",
    "total_grant_needed <- max(0, total_cost - grant_amount)\n",
    "cat(\"Total supplementary grant needed (if any):\", total_grant_needed, \"lakhs\\n\")\n",
    "\n",
    "# Contractor who will be unsuccessful in their bid\n",
    "unsuccessful_contractor <- setdiff(1:5, contractors)\n",
    "cat(\"Contractor(s) unsuccessful in their bid:\", unsuccessful_contractor, \"\\n\")\n"
   ]
  },
  {
   "cell_type": "code",
   "execution_count": 14,
   "id": "68e5a28c-4e36-4870-ad94-58cdfd17d27a",
   "metadata": {},
   "outputs": [
    {
     "name": "stdout",
     "output_type": "stream",
     "text": [
      "Optimal solution found:\n",
      "Objective value (Max Z): 1350 \n",
      "X1 = 0 \n",
      "X2 = 100 \n",
      "X3 = 230 \n"
     ]
    }
   ],
   "source": [
    "# Load the lpSolve library\n",
    "library(lpSolve)\n",
    "\n",
    "# Objective function coefficients\n",
    "obj <- c(3, 2, 5)\n",
    "\n",
    "# Constraint matrix\n",
    "mat <- matrix(c(1, 2, 1,\n",
    "                3, 0, 2,\n",
    "                1, 4, 0), nrow = 3, byrow = TRUE)\n",
    "\n",
    "# Constraint right-hand side\n",
    "rhs <- c(430, 460, 420)\n",
    "\n",
    "# Set the direction of the inequalities ('<=' in this case)\n",
    "dir <- rep(\"<=\", 3)\n",
    "\n",
    "# Solve the linear programming problem using the Simplex method\n",
    "lp_solution <- lp(\"max\", obj, mat, dir, rhs)\n",
    "\n",
    "# Print the solution\n",
    "if(lp_solution$status == 0) {\n",
    "  cat(\"Optimal solution found:\\n\")\n",
    "  cat(\"Objective value (Max Z):\", lp_solution$objval, \"\\n\")\n",
    "  cat(\"X1 =\", lp_solution$solution[1], \"\\n\")\n",
    "  cat(\"X2 =\", lp_solution$solution[2], \"\\n\")\n",
    "  cat(\"X3 =\", lp_solution$solution[3], \"\\n\")\n",
    "} else {\n",
    "  cat(\"No optimal solution found\\n\")\n",
    "}"
   ]
  },
  {
   "cell_type": "code",
   "execution_count": null,
   "id": "65fd61d9-f29e-4750-a256-30c908c3de40",
   "metadata": {},
   "outputs": [],
   "source": []
  }
 ],
 "metadata": {
  "kernelspec": {
   "display_name": "R",
   "language": "R",
   "name": "ir"
  },
  "language_info": {
   "codemirror_mode": "r",
   "file_extension": ".r",
   "mimetype": "text/x-r-source",
   "name": "R",
   "pygments_lexer": "r",
   "version": "4.3.2"
  }
 },
 "nbformat": 4,
 "nbformat_minor": 5
}
