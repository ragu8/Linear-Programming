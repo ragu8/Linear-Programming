{
 "cells": [
  {
   "cell_type": "markdown",
   "id": "3284d19a-8e29-4a8c-8a20-e2f7cf8edd1c",
   "metadata": {},
   "source": [
    "# LINEAR PROGRAMMING AND APPLICATIONS \n",
    "\n",
    "\n",
    "## LIST OF EXPERIMENTS:\n",
    "\n",
    "1. Solving simplex maximization problems using R programming.\n",
    "2. Solving simplex minimization problems using R programming.\n",
    "3. Solving mixed constraints problems – Big M & Two phase method using TORA.\n",
    "4. Solving transportation problems using R.\n",
    "5. Solving assignment problems using R.\n",
    "6. Solving optimization problems using LINGO.\n",
    "7. Studying Primal-Dual relationships in LP using TORA.\n",
    "8. Solving LP problems using dual simplex method using TORA.\n",
    "9. Sensitivity & post optimality analysis using LINGO.\n",
    "-------------------------------------------------------------------------------------------"
   ]
  },
  {
   "cell_type": "markdown",
   "id": "c6d952ae-1f4d-4c62-ba21-58ad968c20d1",
   "metadata": {},
   "source": [
    "#### EXPERIMENT  1 :      Solving simplex maximization problems using R programming.\n",
    "#### DATE : \n"
   ]
  },
  {
   "cell_type": "code",
   "execution_count": 1,
   "id": "268cb990-0b04-4723-b3dd-0db46111718c",
   "metadata": {},
   "outputs": [
    {
     "name": "stderr",
     "output_type": "stream",
     "text": [
      "Loading required package: lpSolve\n",
      "\n"
     ]
    },
    {
     "name": "stdout",
     "output_type": "stream",
     "text": [
      "Optimal solution:\n",
      "x1\t0.00\n",
      "x2\t20.00\n",
      "\n",
      "Optimal objective value:\n",
      "Z = 40.00\n"
     ]
    }
   ],
   "source": [
    "# Install the lpSolve package\n",
    "if (!require(\"lpSolve\")) {\n",
    "  install.packages(\"lpSolve\")\n",
    "}\n",
    "\n",
    "# load the lpSolve package\n",
    "library(lpSolve)\n",
    "\n",
    "# Objective function coefficients\n",
    "obj <- c(3, 2)\n",
    "\n",
    "# Constraint matrix\n",
    "mat <- matrix(c(2, 1, -4, 5), nrow = 2, byrow = TRUE)\n",
    "\n",
    "# Inequality signs\n",
    "constr_types <- c(\"<=\", \">=\")\n",
    "\n",
    "# Right-hand side of constraints\n",
    "rhs <- c(20, -10)\n",
    "\n",
    "# Solving the linear programming problem\n",
    "result <- lp(\"max\", obj, mat, constr_types, rhs)\n",
    "\n",
    "# Display the result\n",
    "cat(\"Optimal solution:\\n\")\n",
    "cat(sprintf(\"x1\\t%.2f\\n\", result$solution[1]))\n",
    "cat(sprintf(\"x2\\t%.2f\\n\", result$solution[2]))\n",
    "\n",
    "cat(\"\\nOptimal objective value:\\n\")\n",
    "cat(sprintf(\"Z = %.2f\\n\", result$objval))\n"
   ]
  },
  {
   "cell_type": "markdown",
   "id": "bf6077e9-616b-4ffd-a284-225041efac26",
   "metadata": {},
   "source": [
    "#### EXPERIMENT 2:   Solving simplex minimization problems using R programming.\n",
    "#### DATE : \n"
   ]
  },
  {
   "cell_type": "code",
   "execution_count": 2,
   "id": "71c04baa-f32e-485c-b765-f4c6fbed3b39",
   "metadata": {},
   "outputs": [
    {
     "name": "stdout",
     "output_type": "stream",
     "text": [
      "Optimal solution:\n",
      "x1\t0.00\n",
      "x2\t0.00\n",
      "\n",
      "Optimal objective value:\n",
      "Z = 0.00\n"
     ]
    }
   ],
   "source": [
    "# Install the lpSolve package\n",
    "if (!require(\"lpSolve\")) {\n",
    "  install.packages(\"lpSolve\")\n",
    "}\n",
    "\n",
    "# load the lpSolve package\n",
    "library(lpSolve)\n",
    "\n",
    "# Objective function coefficients for minimization\n",
    "obj <- c(2, 6)\n",
    "\n",
    "# Constraint matrix\n",
    "mat <- matrix(c(3, 1, 6, 5), nrow = 2, byrow = TRUE)\n",
    "\n",
    "# Inequality signs\n",
    "constr_types <- c(\"<=\", \">=\")\n",
    "\n",
    "# Right-hand side of constraints\n",
    "rhs <- c(20, -10)\n",
    "\n",
    "# Solving the linear programming problem for minimization\n",
    "result <- lp(\"min\", obj, mat, constr_types, rhs)\n",
    "\n",
    "# Display the result\n",
    "cat(\"Optimal solution:\\n\")\n",
    "cat(sprintf(\"x1\\t%.2f\\n\", result$solution[1]))\n",
    "cat(sprintf(\"x2\\t%.2f\\n\", result$solution[2]))\n",
    "\n",
    "cat(\"\\nOptimal objective value:\\n\")\n",
    "cat(sprintf(\"Z = %.2f\\n\", result$objval))"
   ]
  },
  {
   "cell_type": "markdown",
   "id": "7e63faae-78e6-4d24-9126-2dfdbbf4cdea",
   "metadata": {},
   "source": [
    "#### EXPERIMENT 4:   Solving transportation problems using R.\n",
    "#### DATE : \n"
   ]
  },
  {
   "cell_type": "code",
   "execution_count": 3,
   "id": "448ce9d6-25e4-49a3-8f44-27625fbc2f8b",
   "metadata": {},
   "outputs": [
    {
     "name": "stdout",
     "output_type": "stream",
     "text": [
      "Optimal Transportation :\n",
      "     [,1] [,2] [,3]\n",
      "[1,]    0    0   30\n",
      "[2,]   20   30    0\n",
      "[3,]   20    0    0\n",
      "\n",
      "Total Cost:\n",
      "Z = 670"
     ]
    }
   ],
   "source": [
    "# Install the lpSolve package\n",
    "if (!require(\"lpSolve\")) {\n",
    "  install.packages(\"lpSolve\")\n",
    "}\n",
    "\n",
    "# load the lpSolve package\n",
    "library(lpSolve)\n",
    "\n",
    "# Define the transportation costs matrix\n",
    "cost_matrix <- matrix(c(\n",
    "  4, 6, 8,\n",
    "  5, 7, 9,\n",
    "  6, 8, 10\n",
    "), nrow = 3, byrow = TRUE)\n",
    "\n",
    "# Define the supply and demand vectors\n",
    "supply <- c(30, 50, 20)\n",
    "demand <- c(40, 30, 30)\n",
    "\n",
    "# Solve the transportation problem\n",
    "result <- lp.transport(cost = cost_matrix, direction = \"min\",\n",
    "                       row.signs = rep(\"=\", nrow(cost_matrix)),\n",
    "                       row.rhs = supply,\n",
    "                       col.signs = rep(\"=\", ncol(cost_matrix)),\n",
    "                       col.rhs = demand)\n",
    "\n",
    "# Display the result\n",
    "cat(\"Optimal Transportation :\\n\")\n",
    "print(result$solution)\n",
    "\n",
    "cat(\"\\nTotal Cost:\\n\")\n",
    "cat(\"Z =\", result$objval)\n"
   ]
  },
  {
   "cell_type": "markdown",
   "id": "485928af-c7ce-48ba-9e47-bbb4b8ab97e2",
   "metadata": {},
   "source": [
    "#### EXPERIMENT 5:   Solving assignment problems using R\n",
    "#### DATE : \n"
   ]
  },
  {
   "cell_type": "code",
   "execution_count": 4,
   "id": "4ee88b14-738b-45ba-b4ff-a2960014353f",
   "metadata": {},
   "outputs": [
    {
     "name": "stdout",
     "output_type": "stream",
     "text": [
      "Optimal Assignment:\n",
      "     [,1] [,2] [,3]\n",
      "[1,]    0    1    0\n",
      "[2,]    1    0    0\n",
      "[3,]    0    0    1\n",
      "\n",
      "Total Cost :\n",
      "Z = 11"
     ]
    }
   ],
   "source": [
    "# Install the lpSolve package\n",
    "if (!require(\"lpSolve\")) {\n",
    "  install.packages(\"lpSolve\")\n",
    "}\n",
    "\n",
    "# load the lpSolve package\n",
    "library(lpSolve)\n",
    "\n",
    "# Define the cost matrix (or profit matrix)\n",
    "cost_matrix <- matrix(c(\n",
    "  9, 7, 4,\n",
    "  3, 5, 2,\n",
    "  8, 6, 1\n",
    "), nrow = 3, byrow = TRUE)\n",
    "\n",
    "# Solve the assignment problem\n",
    "result <- lp.assign(cost_matrix)\n",
    "\n",
    "# Display the result\n",
    "cat(\"Optimal Assignment:\\n\")\n",
    "print(result$solution)\n",
    "\n",
    "cat(\"\\nTotal Cost :\\n\")\n",
    "cat(\"Z =\", result$objval)"
   ]
  },
  {
   "cell_type": "code",
   "execution_count": null,
   "id": "419c0c0a-ee74-408c-b6d7-57a793f77203",
   "metadata": {},
   "outputs": [],
   "source": []
  }
 ],
 "metadata": {
  "kernelspec": {
   "display_name": "R",
   "language": "R",
   "name": "ir"
  },
  "language_info": {
   "codemirror_mode": "r",
   "file_extension": ".r",
   "mimetype": "text/x-r-source",
   "name": "R",
   "pygments_lexer": "r",
   "version": "4.3.2"
  }
 },
 "nbformat": 4,
 "nbformat_minor": 5
}
